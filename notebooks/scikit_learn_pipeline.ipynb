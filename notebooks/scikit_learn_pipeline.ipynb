{
 "cells": [
  {
   "cell_type": "code",
   "id": "initial_id",
   "metadata": {
    "collapsed": true,
    "ExecuteTime": {
     "end_time": "2024-05-19T22:46:45.962293Z",
     "start_time": "2024-05-19T22:46:45.144183Z"
    }
   },
   "source": [
    "import pandas as pd\n",
    "from sklearn.ensemble import RandomForestRegressor\n",
    "import numpy as np\n",
    "from sklearn.pipeline import Pipeline\n",
    "from sklearn.preprocessing import StandardScaler\n",
    "from sklearn.model_selection import cross_val_score"
   ],
   "outputs": [],
   "execution_count": 1
  },
  {
   "metadata": {
    "ExecuteTime": {
     "end_time": "2024-05-19T23:13:50.386313Z",
     "start_time": "2024-05-19T23:13:50.376626Z"
    }
   },
   "cell_type": "code",
   "source": [
    "data = pd.read_csv('../data/housing.csv')\n",
    "data.head()"
   ],
   "id": "18deea53c48ab8dd",
   "outputs": [],
   "execution_count": 6
  },
  {
   "metadata": {
    "ExecuteTime": {
     "end_time": "2024-05-19T23:14:00.565111Z",
     "start_time": "2024-05-19T23:13:58.183326Z"
    }
   },
   "cell_type": "code",
   "source": [
    "X, y = data.iloc[:, :-1].values, data.iloc[:, -1].values\n",
    "rf_pipeline = Pipeline(steps=[('scaler', StandardScaler()), ('rf', RandomForestRegressor())])\n",
    "scores = cross_val_score(rf_pipeline, X, y, cv=10, scoring='neg_mean_squared_error')\n",
    "final_avg_rmse = np.mean(np.sqrt(np.abs(scores)))\n",
    "print('Final  RMSE:', final_avg_rmse)"
   ],
   "id": "6d6a321765e6ff4",
   "outputs": [
    {
     "name": "stdout",
     "output_type": "stream",
     "text": [
      "Final  RMSE: 4.138830154844749\n"
     ]
    }
   ],
   "execution_count": 7
  }
 ],
 "metadata": {
  "kernelspec": {
   "display_name": "Python 3",
   "language": "python",
   "name": "python3"
  },
  "language_info": {
   "codemirror_mode": {
    "name": "ipython",
    "version": 2
   },
   "file_extension": ".py",
   "mimetype": "text/x-python",
   "name": "python",
   "nbconvert_exporter": "python",
   "pygments_lexer": "ipython2",
   "version": "2.7.6"
  }
 },
 "nbformat": 4,
 "nbformat_minor": 5
}
