{
 "cells": [
  {
   "cell_type": "code",
   "id": "initial_id",
   "metadata": {
    "collapsed": true,
    "ExecuteTime": {
     "end_time": "2024-05-19T23:16:14.831688Z",
     "start_time": "2024-05-19T23:16:14.113488Z"
    }
   },
   "source": [
    "import pandas as pd\n",
    "import numpy as np\n",
    "import xgboost as xgb\n",
    "from sklearn.model_selection import cross_val_score\n",
    "from sklearn.pipeline import Pipeline\n",
    "from sklearn.preprocessing import StandardScaler"
   ],
   "outputs": [],
   "execution_count": 1
  },
  {
   "metadata": {
    "ExecuteTime": {
     "end_time": "2024-05-19T23:19:14.911518Z",
     "start_time": "2024-05-19T23:19:14.195043Z"
    }
   },
   "cell_type": "code",
   "source": [
    "data = pd.read_csv('../data/housing.csv')\n",
    "X, y = data.iloc[:, :-1], data.iloc[:, -1]\n",
    "xgb_pipeline = Pipeline(steps=[('scaler', StandardScaler()), ('xgb_model', xgb.XGBRegressor())])\n",
    "scores = cross_val_score(xgb_pipeline, X, y, cv=10, scoring='neg_mean_squared_error')\n",
    "final_avg_rmse = np.mean(np.sqrt(np.abs(scores)))\n",
    "print('Final XGBoost RMSE :', final_avg_rmse) "
   ],
   "id": "43aa2d948fd2f2f",
   "outputs": [
    {
     "name": "stdout",
     "output_type": "stream",
     "text": [
      "Final XGBoost RMSE : 4.60829421081934\n"
     ]
    }
   ],
   "execution_count": 2
  }
 ],
 "metadata": {
  "kernelspec": {
   "display_name": "Python 3",
   "language": "python",
   "name": "python3"
  },
  "language_info": {
   "codemirror_mode": {
    "name": "ipython",
    "version": 2
   },
   "file_extension": ".py",
   "mimetype": "text/x-python",
   "name": "python",
   "nbconvert_exporter": "python",
   "pygments_lexer": "ipython2",
   "version": "2.7.6"
  }
 },
 "nbformat": 4,
 "nbformat_minor": 5
}
