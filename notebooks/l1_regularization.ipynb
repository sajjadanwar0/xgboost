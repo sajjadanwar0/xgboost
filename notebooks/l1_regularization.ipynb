{
 "cells": [
  {
   "cell_type": "code",
   "id": "initial_id",
   "metadata": {
    "collapsed": true,
    "ExecuteTime": {
     "end_time": "2024-05-19T19:28:11.004381Z",
     "start_time": "2024-05-19T19:28:10.432474Z"
    }
   },
   "source": [
    "import xgboost as xgb\n",
    "import numpy as np\n",
    "from sklearn.model_selection import train_test_split\n",
    "import pandas as pd\n",
    "from sklearn.metrics import mean_squared_error"
   ],
   "outputs": [],
   "execution_count": 1
  },
  {
   "metadata": {
    "ExecuteTime": {
     "end_time": "2024-05-19T19:28:13.344593Z",
     "start_time": "2024-05-19T19:28:13.338026Z"
    }
   },
   "cell_type": "code",
   "source": "boston_data = pd.read_csv('../data/housing.csv')",
   "id": "4aad9b080dd4d51c",
   "outputs": [],
   "execution_count": 2
  },
  {
   "metadata": {
    "ExecuteTime": {
     "end_time": "2024-05-19T19:41:33.036141Z",
     "start_time": "2024-05-19T19:41:32.936298Z"
    }
   },
   "cell_type": "code",
   "source": [
    "X, y = boston_data.iloc[:, :-1], boston_data.iloc[:, -1]\n",
    "boston_dmatrix = xgb.DMatrix(data=X, label=y)\n",
    "params = {\"objective\": \"reg:squarederror\", \"max_depth\": 4}\n",
    "l1_params = [1, 10, 100]\n",
    "rmse_l1 = []\n",
    "\n",
    "for reg in l1_params:\n",
    "    params[\"alpha\"] = reg\n",
    "    cv_results = xgb.cv(dtrain=boston_dmatrix, params=params, num_boost_round=10, nfold=4,\n",
    "                           metrics=\"rmse\", as_pandas=True, seed=123\n",
    "                           )\n",
    "    rmse_l1.append(cv_results[\"test-rmse-mean\"].tail(1).values[0])\n",
    "\n",
    "print(\"Best rmse as a function of L1:\")\n",
    "print(pd.DataFrame(list(zip(l1_params, rmse_l1)),columns=['l1', 'rmse']))"
   ],
   "id": "5a8c359a4e548936",
   "outputs": [
    {
     "name": "stdout",
     "output_type": "stream",
     "text": [
      "Best rmse as a function of L1:\n",
      "    l1          rmse\n",
      "0    1  70111.804840\n",
      "1   10  70111.747237\n",
      "2  100  70111.131601\n"
     ]
    }
   ],
   "execution_count": 8
  }
 ],
 "metadata": {
  "kernelspec": {
   "display_name": "Python 3",
   "language": "python",
   "name": "python3"
  },
  "language_info": {
   "codemirror_mode": {
    "name": "ipython",
    "version": 2
   },
   "file_extension": ".py",
   "mimetype": "text/x-python",
   "name": "python",
   "nbconvert_exporter": "python",
   "pygments_lexer": "ipython2",
   "version": "2.7.6"
  }
 },
 "nbformat": 4,
 "nbformat_minor": 5
}
