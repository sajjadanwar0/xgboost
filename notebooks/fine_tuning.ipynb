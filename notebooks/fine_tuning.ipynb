{
 "cells": [
  {
   "cell_type": "code",
   "id": "initial_id",
   "metadata": {
    "collapsed": true,
    "ExecuteTime": {
     "end_time": "2024-05-19T19:54:38.682833Z",
     "start_time": "2024-05-19T19:54:38.101963Z"
    }
   },
   "source": [
    "import pandas as pd\n",
    "import numpy as np\n",
    "import xgboost as xgb\n",
    "from sklearn.model_selection import train_test_split"
   ],
   "outputs": [],
   "execution_count": 1
  },
  {
   "metadata": {
    "ExecuteTime": {
     "end_time": "2024-05-19T19:55:03.613550Z",
     "start_time": "2024-05-19T19:55:03.598303Z"
    }
   },
   "cell_type": "code",
   "source": "housing_data = pd.read_csv('../data/ames_housing.csv')",
   "id": "6f88c9f58b6ccfb7",
   "outputs": [],
   "execution_count": 2
  },
  {
   "metadata": {},
   "cell_type": "markdown",
   "source": "Un-Tuned Example",
   "id": "27982e52f99d090a"
  },
  {
   "metadata": {
    "ExecuteTime": {
     "end_time": "2024-05-19T20:00:09.888378Z",
     "start_time": "2024-05-19T20:00:09.772141Z"
    }
   },
   "cell_type": "code",
   "source": [
    "X, y = housing_data[housing_data.columns.tolist()[:-1]], housing_data[housing_data.columns.tolist()[-1]]\n",
    "housing_dmatrix = xgb.DMatrix(data=X, label=y)\n",
    "untuned_params = {\"objective\": \"reg:squarederror\"}\n",
    "untuned_cv_results_rmse = xgb.cv(dtrain=housing_dmatrix, params=untuned_params, nfold=4, metrics=\"rmse\", as_pandas=True,\n",
    "                                 seed=123)\n",
    "print(\"Untuned RMSE:%f\" % (untuned_cv_results_rmse[\"test-rmse-mean\"].tail(1)))"
   ],
   "id": "1a59c96b46dc2fbf",
   "outputs": [
    {
     "name": "stdout",
     "output_type": "stream",
     "text": [
      "Untuned RMSE:33238.397179\n"
     ]
    },
    {
     "name": "stderr",
     "output_type": "stream",
     "text": [
      "/tmp/ipykernel_72043/2024540867.py:6: FutureWarning: Calling float on a single element Series is deprecated and will raise a TypeError in the future. Use float(ser.iloc[0]) instead\n",
      "  print(\"Untuned RMSE:%f\" % (untuned_cv_results_rmse[\"test-rmse-mean\"].tail(1)))\n"
     ]
    }
   ],
   "execution_count": 7
  },
  {
   "metadata": {},
   "cell_type": "markdown",
   "source": "Tuned Example",
   "id": "228f9816e3b3c061"
  },
  {
   "metadata": {
    "ExecuteTime": {
     "end_time": "2024-05-19T20:03:46.452116Z",
     "start_time": "2024-05-19T20:03:44.994126Z"
    }
   },
   "cell_type": "code",
   "source": [
    "tuned_params = {\"objective\": \"reg:squarederror\", \"colsample_bylevel\": 0.3, \"learning_rate\": 0.1, \"max_depth\": 5}\n",
    "tuned_cv_results_rmse = xgb.cv(dtrain=housing_dmatrix, params=tuned_params, nfold=4, metrics=\"rmse\",\n",
    "                               num_boost_round=400, as_pandas=True, seed=123)\n",
    "print(\"Tuned RMSE: %f\" % (tuned_cv_results_rmse[\"test-rmse-mean\"].tail(1)))\n"
   ],
   "id": "703509f1fd69c54",
   "outputs": [
    {
     "name": "stdout",
     "output_type": "stream",
     "text": [
      "Tuned RMSE: 29665.755488\n"
     ]
    },
    {
     "name": "stderr",
     "output_type": "stream",
     "text": [
      "/tmp/ipykernel_72043/1294620799.py:4: FutureWarning: Calling float on a single element Series is deprecated and will raise a TypeError in the future. Use float(ser.iloc[0]) instead\n",
      "  print(\"Tuned RMSE: %f\" % (tuned_cv_results_rmse[\"test-rmse-mean\"].tail(1)))\n"
     ]
    }
   ],
   "execution_count": 8
  },
  {
   "metadata": {},
   "cell_type": "markdown",
   "source": [
    "Common tree tune-able parameters\n",
    "- Learning Rate: The learning rate effect how quickly the model fits the residual error using additional base learners.\n",
    "A low learning rate will require more boosting rounds to achieve the same reduction in residual error as XGBOOST model with a high learning rate.\n",
    "- gamma: min loss reduction to create new tree split\n",
    "- lambda: L2 reg on leaf weights\n",
    "- alpha: L1 reg on leaft weights\n",
    "- max_depth: Max Depth must a positive integer value and effects how deeply each tree is allowed to grow during a given boosting round.\n",
    "- subsample: Must be a value between 0 and 1 and is the fraction of the total training set that can be used for any given boosting round.\n",
    " If the value is low then the fraction of your training data would be per boosting round would be low and we may run into under-fitting problems, a value that is very high can lead to over-fitting models.\n",
    " - colsample_bytree: colsample_bytree is the fraction of the features you can select from during any given boosting round and must be a value between 0 and 1. \n",
    " A large value means that almost all features can be used to build a tree during a given boosting round, whereas a small value means that the fraction of the features that can be selected from is very small.\n",
    "In general smaller colsample_bytree value can be thought of as providing additional regularization to the model, whereas all columns may in certain cases overfit  a trained model.\n"
   ],
   "id": "3db12decd45888c6"
  },
  {
   "metadata": {},
   "cell_type": "markdown",
   "source": [
    "Linear Tunable paramters\n",
    "For a linear based learner, the number of tunable parameters is significantly smaller. You only have access to \n",
    "- lambda: L2 regularization on weights\n",
    "- alpha: L1 regularization on weights\n",
    "- lambda_bias: L2 reg term on bias\n"
   ],
   "id": "d1234ca05336d871"
  }
 ],
 "metadata": {
  "kernelspec": {
   "display_name": "Python 3",
   "language": "python",
   "name": "python3"
  },
  "language_info": {
   "codemirror_mode": {
    "name": "ipython",
    "version": 2
   },
   "file_extension": ".py",
   "mimetype": "text/x-python",
   "name": "python",
   "nbconvert_exporter": "python",
   "pygments_lexer": "ipython2",
   "version": "2.7.6"
  }
 },
 "nbformat": 4,
 "nbformat_minor": 5
}
