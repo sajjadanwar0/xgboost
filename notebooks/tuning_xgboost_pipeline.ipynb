{
 "cells": [
  {
   "cell_type": "code",
   "id": "initial_id",
   "metadata": {
    "collapsed": true,
    "ExecuteTime": {
     "end_time": "2024-05-19T23:23:11.766467Z",
     "start_time": "2024-05-19T23:23:11.761879Z"
    }
   },
   "source": [
    "import xgboost as xgb\n",
    "import numpy as np\n",
    "from sklearn.preprocessing import StandardScaler\n",
    "from sklearn.pipeline import Pipeline\n",
    "from sklearn.model_selection import RandomizedSearchCV\n",
    "import pandas as pd"
   ],
   "outputs": [],
   "execution_count": 2
  },
  {
   "metadata": {
    "ExecuteTime": {
     "end_time": "2024-05-19T23:31:29.188105Z",
     "start_time": "2024-05-19T23:31:26.062869Z"
    }
   },
   "cell_type": "code",
   "source": [
    "data = pd.read_csv('../data/housing.csv')\n",
    "X, y = data.iloc[:, :-1], data.iloc[:, -1]\n",
    "xgb_pipeline = Pipeline(\n",
    "    steps=[('scaler', StandardScaler()), ('xgb_model', xgb.XGBRegressor())])\n",
    "\n",
    "gbm_params_grid = {'xgb_model__subsample': np.arange(.05, 1, .05), 'xgb_model__max_depth': np.arange(3, 20, 1),\n",
    "                   'xgb_model__colsample_bytree': np.arange(.1, 1.05, .05)}\n",
    "randomized_neg_mse = RandomizedSearchCV(estimator=xgb_pipeline, param_distributions=gbm_params_grid, n_iter=10,\n",
    "                                        scoring='neg_mean_squared_error', cv=4)\n",
    "\n",
    "randomized_neg_mse.fit(X, y)\n",
    "print('Best rmse: ',np.sqrt(np.abs(randomized_neg_mse.best_score_)))"
   ],
   "id": "bf94c54779df36ac",
   "outputs": [
    {
     "name": "stdout",
     "output_type": "stream",
     "text": [
      "Best rmse:  4.722013418739612\n"
     ]
    }
   ],
   "execution_count": 8
  }
 ],
 "metadata": {
  "kernelspec": {
   "display_name": "Python 3",
   "language": "python",
   "name": "python3"
  },
  "language_info": {
   "codemirror_mode": {
    "name": "ipython",
    "version": 2
   },
   "file_extension": ".py",
   "mimetype": "text/x-python",
   "name": "python",
   "nbconvert_exporter": "python",
   "pygments_lexer": "ipython2",
   "version": "2.7.6"
  }
 },
 "nbformat": 4,
 "nbformat_minor": 5
}
